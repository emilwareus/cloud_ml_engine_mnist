{
 "cells": [
  {
   "cell_type": "markdown",
   "metadata": {},
   "source": [
    "## Test to set variables"
   ]
  },
  {
   "cell_type": "code",
   "execution_count": 6,
   "metadata": {},
   "outputs": [
    {
     "name": "stdout",
     "output_type": "stream",
     "text": [
      "env: JOB_NAME=minist_traning_1\n"
     ]
    }
   ],
   "source": [
    "# Setting enviromental variables\n",
    "%env JOB_NAME=minist_traning_1"
   ]
  },
  {
   "cell_type": "code",
   "execution_count": 7,
   "metadata": {},
   "outputs": [
    {
     "name": "stdout",
     "output_type": "stream",
     "text": [
      "minist_traning_1\r\n"
     ]
    }
   ],
   "source": [
    "# Check if the enviromental variables are correct \n",
    "!echo $JOB_NAME"
   ]
  },
  {
   "cell_type": "markdown",
   "metadata": {},
   "source": [
    "## Set env variables"
   ]
  },
  {
   "cell_type": "code",
   "execution_count": 16,
   "metadata": {},
   "outputs": [
    {
     "name": "stdout",
     "output_type": "stream",
     "text": [
      "env: JOB_NAME=\"minist_traning_1\"\n",
      "env: BUCKET=cloud_ml_mnist\n",
      "env: JOB_DIR=cloud_ml_mnist\n",
      "env: REGION=europe-west1\n",
      "env: SCALE_TIER=standard-1\n"
     ]
    }
   ],
   "source": [
    "%env JOB_NAME=\"minist_traning_1\"\n",
    "%env BUCKET=cloud_ml_mnist\n",
    "%env JOB_DIR=cloud_ml_mnist\n",
    "%env REGION=europe-west1\n",
    "%env SCALE_TIER = standard-1"
   ]
  },
  {
   "cell_type": "markdown",
   "metadata": {},
   "source": [
    "## To Do\n",
    "\n",
    "1) Set up a GS Bucket for the mnist project\n",
    "2) Move the traning data if possible \n",
    "3) Make sure how to set the export dir "
   ]
  },
  {
   "cell_type": "code",
   "execution_count": 9,
   "metadata": {},
   "outputs": [
    {
     "name": "stdout",
     "output_type": "stream",
     "text": [
      "README.md            model_train.py.ipynb \u001b[34mtrainer\u001b[m\u001b[m\r\n",
      "inference.py         setup.py\r\n"
     ]
    }
   ],
   "source": [
    "! ls"
   ]
  },
  {
   "cell_type": "code",
   "execution_count": 19,
   "metadata": {},
   "outputs": [
    {
     "name": "stdout",
     "output_type": "stream",
     "text": [
      "\u001b[1;31mERROR:\u001b[0m gcloud crashed (OSError): [Errno 2] No such file or directory: '/var/folders/1g/fdy2km_d2g12rt_vtjx32d5r0000gn/T/tmpL6q0iu/output'\n",
      "\n",
      "If you would like to report this issue, please run the following command:\n",
      "  gcloud feedback\n",
      "\n",
      "To check gcloud for common problems, please run the following command:\n",
      "  gcloud info --run-diagnostics\n"
     ]
    }
   ],
   "source": [
    "! gcloud ml-engine jobs submit training $JOB_NAME \\\n",
    "    --runtime-version 1.10 \\\n",
    "    --job-dir gs://cloud_ml_mnist/  \\\n",
    "    --module-name trainer.task \\\n",
    "    --python-version 3.5 \\\n",
    "    --package-path trainer \\\n",
    "    --region europe-west1"
   ]
  },
  {
   "cell_type": "code",
   "execution_count": null,
   "metadata": {},
   "outputs": [],
   "source": [
    "! gcloud feedback"
   ]
  },
  {
   "cell_type": "code",
   "execution_count": null,
   "metadata": {},
   "outputs": [],
   "source": [
    "--scale-tier $SCALE_TIER"
   ]
  }
 ],
 "metadata": {
  "kernelspec": {
   "display_name": "Python 3",
   "language": "python",
   "name": "python3"
  },
  "language_info": {
   "codemirror_mode": {
    "name": "ipython",
    "version": 3
   },
   "file_extension": ".py",
   "mimetype": "text/x-python",
   "name": "python",
   "nbconvert_exporter": "python",
   "pygments_lexer": "ipython3",
   "version": "3.6.5"
  }
 },
 "nbformat": 4,
 "nbformat_minor": 2
}
